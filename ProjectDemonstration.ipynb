{
 "cells": [
  {
   "cell_type": "markdown",
   "id": "ca2fc886",
   "metadata": {},
   "source": [
    "## Preparation"
   ]
  },
  {
   "cell_type": "code",
   "execution_count": 1,
   "id": "ea24d0ea",
   "metadata": {},
   "outputs": [],
   "source": [
    "import math\n",
    "\n",
    "import matplotlib.pyplot as plt\n",
    "import copy\n",
    "\n",
    "from qiskit import QuantumRegister, ClassicalRegister, QuantumCircuit, Aer, execute\n",
    "from qiskit.algorithms.optimizers import COBYLA\n",
    "import numpy as np\n",
    "from sklearn import datasets"
   ]
  },
  {
   "cell_type": "markdown",
   "id": "f0ee9a5d",
   "metadata": {},
   "source": [
    "First we define 2 classes with which we can generate bivariate normal distributions.\n",
    "\n",
    "We define two different datasets. ```OneClusters``` a distribution containing one bivariate normal distribution. While the ```TwoClusters``` is a distribution consisting of two bivariate normally distributed points."
   ]
  },
  {
   "cell_type": "code",
   "execution_count": 2,
   "id": "4894e824",
   "metadata": {},
   "outputs": [],
   "source": [
    "class OneClusters:\n",
    "\n",
    "    def __init__(self):\n",
    "        self.x_mean = 0.75\n",
    "        self.y_mean = 0.25\n",
    "        self.std = 0.05\n",
    "\n",
    "    def generate(self, n):\n",
    "        data = datasets.make_blobs(n_samples=n * 5, n_features=2, centers=[[self.x_mean, self.y_mean]], cluster_std=self.std)\n",
    "\n",
    "        data = [[el[0], el[1]] for el in data[0] if 0 < el[0] < 1 and 0 < el[1] < 1]\n",
    "\n",
    "        data = data[:n]\n",
    "\n",
    "        return np.array(data)\n",
    "\n",
    "\n",
    "class TwoClusters:\n",
    "\n",
    "    def __init__(self):\n",
    "        self.x1_mean = 0.25\n",
    "        self.x2_mean = 0.75\n",
    "        self.y1_mean = 0.75\n",
    "        self.y2_mean = 0.25\n",
    "        self.std = 0.05\n",
    "\n",
    "    def generate(self, n):\n",
    "        data = datasets.make_blobs(n_samples=n * 5, n_features=2, centers=[[self.x1_mean, self.y1_mean], [self.x2_mean, self.y2_mean]], cluster_std=[self.std, self.std])\n",
    "\n",
    "        data = [[el[0], el[1]] for el in data[0] if 0 < el[0] < 1 and 0 < el[1] < 1]\n",
    "\n",
    "        data = data[:n]\n",
    "\n",
    "        return np.array(data)"
   ]
  },
  {
   "cell_type": "markdown",
   "id": "818adddf",
   "metadata": {},
   "source": [
    "We can plot the data in order to inspect it visually."
   ]
  },
  {
   "cell_type": "code",
   "execution_count": 3,
   "id": "33b93755",
   "metadata": {},
   "outputs": [
    {
     "data": {
      "image/png": "[encoded data removed]",
      "text/plain": [
       "<Figure size 432x288 with 1 Axes>"
      ]
     },
     "metadata": {
      "needs_background": "light"
     },
     "output_type": "display_data"
    }
   ],
   "source": [
    "two_clustered_data = TwoClusters().generate(100).transpose()\n",
    "\n",
    "plt.scatter(two_clustered_data[0], two_clustered_data[1])\n",
    "plt.xlim([0, 1])\n",
    "plt.ylim([0, 1])\n",
    "plt.show()"
   ]
  },
  {
   "cell_type": "code",
   "execution_count": 4,
   "id": "2b722b62",
   "metadata": {},
   "outputs": [
    {
     "data": {
      "image/png": "[encoded data removed]",
      "text/plain": [
       "<Figure size 432x288 with 1 Axes>"
      ]
     },
     "metadata": {
      "needs_background": "light"
     },
     "output_type": "display_data"
    }
   ],
   "source": [
    "one_clustered_data = OneClusters().generate(100).transpose()\n",
    "\n",
    "plt.scatter(one_clustered_data[0], one_clustered_data[1])\n",
    "plt.xlim([0, 1])\n",
    "plt.ylim([0, 1])\n",
    "plt.show()"
   ]
  },
  {
   "cell_type": "markdown",
   "id": "fdb2dfdb",
   "metadata": {},
   "source": [
    "We then want to generate our datasets for training and initialize some parameters used in training."
   ]
  },
  {
   "cell_type": "code",
   "execution_count": 5,
   "id": "62598fc6",
   "metadata": {},
   "outputs": [],
   "source": [
    "one_clustered_data_generator = OneClusters()\n",
    "two_clustered_data_generator = TwoClusters()\n",
    "\n",
    "one_clustered_data = one_clustered_data_generator.generate(25000)\n",
    "two_clustered_data = two_clustered_data_generator.generate(25000)\n",
    "\n",
    "epochs = 20\n",
    "alpha = 0.01\n",
    "steps_per_epoch = 20"
   ]
  },
  {
   "cell_type": "markdown",
   "id": "556a6d25",
   "metadata": {},
   "source": [
    "## QuGAN Implementation"
   ]
  },
  {
   "cell_type": "markdown",
   "id": "76326876",
   "metadata": {},
   "source": [
    "Define a quantum circuit on which the Discriminator can learn from real samples"
   ]
  },
  {
   "cell_type": "code",
   "execution_count": 6,
   "id": "5f76845d",
   "metadata": {},
   "outputs": [
    {
     "data": {
      "image/png": "[encoded data removed]",
      "text/plain": [
       "<Figure size 581.178x385.28 with 1 Axes>"
      ]
     },
     "execution_count": 6,
     "metadata": {},
     "output_type": "execute_result"
    }
   ],
   "source": [
    "def build_discriminator(d_thetas, real_x, real_y):\n",
    "    # q0 is for reading result\n",
    "    # q1, q2 are the discriminator\n",
    "    # q3, q4 are the real data points\n",
    "    q = QuantumRegister(5)\n",
    "    c = ClassicalRegister(1)\n",
    "    circuit = QuantumCircuit(q, c)\n",
    "\n",
    "    circuit.initialize([math.sqrt(1 - real_x**2), real_x], 3)\n",
    "    circuit.initialize([math.sqrt(1 - real_y**2), real_y], 4)\n",
    "\n",
    "    circuit.h(q[0])\n",
    "\n",
    "    circuit.ry(d_thetas[0], q[1])\n",
    "    circuit.ry(d_thetas[1], q[2])\n",
    "\n",
    "    circuit.ryy(d_thetas[2], q[1], q[2])\n",
    "    circuit.cry(d_thetas[3], q[1], q[2])\n",
    "\n",
    "    circuit.cswap(q[0], q[1], q[3])\n",
    "    circuit.cswap(q[0], q[2], q[4])\n",
    "\n",
    "    circuit.h(q[0])\n",
    "    circuit.measure(q[0], c[0])\n",
    "    \n",
    "    return circuit\n",
    "\n",
    "build_discriminator([0, 0, 0, 0], 0.5, 0.6).draw(output='mpl')"
   ]
  },
  {
   "cell_type": "markdown",
   "id": "8e7041f3",
   "metadata": {},
   "source": [
    "Define a quantum circuit on which the Discriminator can learn from generated samples and on which the Generator can learn from discriminated samples."
   ]
  },
  {
   "cell_type": "code",
   "execution_count": 7,
   "id": "76ab51b2",
   "metadata": {},
   "outputs": [
    {
     "data": {
      "image/png": "[encoded data removed]",
      "text/plain": [
       "<Figure size 521.123x385.28 with 1 Axes>"
      ]
     },
     "execution_count": 7,
     "metadata": {},
     "output_type": "execute_result"
    }
   ],
   "source": [
    "def build_full_circuit(d_thetas, g_thetas):\n",
    "    # q0 is for reading result\n",
    "    # q1, q2 are the discriminator\n",
    "    # q3, q4 are the generator\n",
    "    q = QuantumRegister(5)\n",
    "    c = ClassicalRegister(1)\n",
    "    circuit = QuantumCircuit(q, c)\n",
    "\n",
    "    circuit.h(q[0])\n",
    "\n",
    "    circuit.ry(d_thetas[0], q[1])\n",
    "    circuit.ry(d_thetas[1], q[2])\n",
    "    circuit.ry(g_thetas[0], q[3])\n",
    "    circuit.ry(g_thetas[1], q[4])\n",
    "\n",
    "    circuit.ryy(d_thetas[2], q[1], q[2])\n",
    "    circuit.ryy(g_thetas[2], q[3], q[4])\n",
    "\n",
    "    circuit.cry(d_thetas[3], q[1], q[2])\n",
    "    circuit.cry(g_thetas[3], q[3], q[4])\n",
    "\n",
    "    circuit.cswap(q[0], q[1], q[3])\n",
    "    circuit.cswap(q[0], q[2], q[4])\n",
    "\n",
    "    circuit.h(q[0])\n",
    "    circuit.measure(q[0], c[0])\n",
    "\n",
    "    return circuit\n",
    "\n",
    "build_full_circuit(d_thetas=[0, 0, 0, 0], g_thetas=[0, 0, 0, 0]).draw(output='mpl')"
   ]
  },
  {
   "cell_type": "markdown",
   "id": "4650e706",
   "metadata": {},
   "source": [
    "Define a quantum circuit from which we can generate new data points from the Generator."
   ]
  },
  {
   "cell_type": "code",
   "execution_count": 8,
   "id": "560e8e8e",
   "metadata": {},
   "outputs": [
    {
     "data": {
      "image/png": "[encoded data removed]",
      "text/plain": [
       "<Figure size 400.723x204.68 with 1 Axes>"
      ]
     },
     "execution_count": 8,
     "metadata": {},
     "output_type": "execute_result"
    }
   ],
   "source": [
    "def build_generator(g_thetas):\n",
    "    q = QuantumRegister(2)\n",
    "    c = ClassicalRegister(2)\n",
    "    circuit = QuantumCircuit(q, c)\n",
    "\n",
    "    circuit.ry(g_thetas[0], q[0])\n",
    "    circuit.ry(g_thetas[1], q[1])\n",
    "\n",
    "    circuit.ryy(g_thetas[2], q[0], q[1])\n",
    "\n",
    "    circuit.cry(g_thetas[3], q[0], q[1])\n",
    "\n",
    "    circuit.measure(q[0], c[0])\n",
    "    circuit.measure(q[1], c[1])\n",
    "\n",
    "    return circuit\n",
    "\n",
    "build_generator([0, 0, 0, 0]).draw(output='mpl')"
   ]
  },
  {
   "cell_type": "markdown",
   "id": "bfe2d54b",
   "metadata": {},
   "source": [
    "We define a function with which we can easily run $n$ amount of simulations in order to extract results."
   ]
  },
  {
   "cell_type": "code",
   "execution_count": 9,
   "id": "e2ef63cf",
   "metadata": {},
   "outputs": [],
   "source": [
    "def run_simulation(circuit, shot_count):\n",
    "    backend = Aer.get_backend('qasm_simulator')\n",
    "    job = execute(backend=backend, experiments=circuit, shots=shot_count)\n",
    "    counts = job.result().get_counts()\n",
    "    prob = counts_to_prob(counts)\n",
    "    return prob"
   ]
  },
  {
   "cell_type": "markdown",
   "id": "5d4bede5",
   "metadata": {},
   "source": [
    "We then define the derivates and cost functions in order to train the generator."
   ]
  },
  {
   "cell_type": "code",
   "execution_count": 10,
   "id": "6f6cf051",
   "metadata": {},
   "outputs": [],
   "source": [
    "def derivative(f, theta, epoch):\n",
    "    return 0.5 * (f * (theta + math.pi / (2 * math.sqrt(epoch + 1))) - f * (theta - math.pi / (2 * math.sqrt(epoch + 1))))\n",
    "\n",
    "derivatives = np.vectorize(derivative)\n",
    "\n",
    "def real_cost(circuit):\n",
    "    runs = 30\n",
    "    result = run_simulation(circuit, runs)\n",
    "    result_prob = np.abs(((result / runs) - 0.5) / 0.5)\n",
    "\n",
    "    if result_prob == 0:\n",
    "        result_prob = 0.1\n",
    "\n",
    "    return np.log(result_prob), result\n",
    "\n",
    "def fake_cost(circuit):\n",
    "    runs = 30\n",
    "    result = run_simulation(circuit, runs)\n",
    "    result_prob = np.abs((result / runs - 0.5) / 0.5)\n",
    "\n",
    "    if result_prob == 1:\n",
    "        result_prob = 0.9\n",
    "\n",
    "    return np.log(1-result_prob), result"
   ]
  },
  {
   "cell_type": "markdown",
   "id": "ced97802",
   "metadata": {},
   "source": [
    "Define a function that can convert counts from simulations to points"
   ]
  },
  {
   "cell_type": "code",
   "execution_count": 11,
   "id": "25685cea",
   "metadata": {},
   "outputs": [],
   "source": [
    "    def counts_to_prob(counts):\n",
    "        if '0' in counts.keys():\n",
    "            x_0 = counts['0']\n",
    "        else:\n",
    "            x_0 = 0\n",
    "        if '1' in counts.keys():\n",
    "            x_1 = counts['1']\n",
    "        else:\n",
    "            x_1 = 0\n",
    "        return x_1 / (x_0 + x_1)"
   ]
  },
  {
   "cell_type": "markdown",
   "id": "d4ebcf40",
   "metadata": {},
   "source": [
    "Next we define a training function which trains our full stack."
   ]
  },
  {
   "cell_type": "code",
   "execution_count": 12,
   "id": "9bff2a6c",
   "metadata": {},
   "outputs": [],
   "source": [
    "def train(data, d_thetas, g_thetas):\n",
    "    opt_d_thetas, opt_g_thetas, opt_h_dist = d_thetas, g_thetas, 1\n",
    "    \n",
    "    d_loss_on_real = []\n",
    "    d_loss_on_generated = []\n",
    "    g_loss = []\n",
    "\n",
    "    for e in range(epochs):\n",
    "        # First train the Discriminator on real data\n",
    "        d_real_total_cost = 0\n",
    "        n_correct = 0\n",
    "        n_incorrect = 0\n",
    "        \n",
    "        # Make a random selection from our dataset\n",
    "        idx = np.random.randint(len(data), size=steps_per_epoch)\n",
    "        xs = data[idx]\n",
    "        # Train the Discriminator on each sample\n",
    "        for x in xs:\n",
    "            d_circuit = build_discriminator(d_thetas, x[0], x[1])\n",
    "            \n",
    "            # Calculate the cost and gradient\n",
    "            d_cost, result = real_cost(d_circuit)\n",
    "            grad = derivatives(d_cost, d_thetas, e)\n",
    "\n",
    "            # If the result is over 0.5, the discriminator classifies the sample as real.\n",
    "            if result > 0.5:\n",
    "                n_correct += 1\n",
    "            else:\n",
    "                n_incorrect += 1\n",
    "\n",
    "            # Update the thetas\n",
    "            d_thetas -= alpha * grad\n",
    "            \n",
    "            # Keep track of the total cost so far\n",
    "            d_real_total_cost += d_cost\n",
    "\n",
    "        d_loss_on_real.append(d_real_total_cost)\n",
    "\n",
    "        d_generated_total_cost = 0\n",
    "        \n",
    "        # Then train the Discriminator on the Generator\n",
    "        for i in range(steps_per_epoch):\n",
    "            dg_circuit = build_full_circuit(d_thetas, g_thetas)\n",
    "            \n",
    "            # Calculate the cost and gradient\n",
    "            d_cost, result = fake_cost(dg_circuit)\n",
    "            grad = derivatives(d_cost, d_thetas, e)\n",
    "\n",
    "            # If the result less than 0.5, the discriminator classifies the sample as fake.\n",
    "            if result < 0.5:\n",
    "                n_correct += 1\n",
    "            else:\n",
    "                n_incorrect += 1\n",
    "                \n",
    "            # Update the thetas\n",
    "            d_thetas -= alpha * grad\n",
    "\n",
    "            # Keep track of the total cost so far\n",
    "            d_generated_total_cost += d_cost\n",
    "\n",
    "        d_loss_on_generated.append(d_real_total_cost)\n",
    "\n",
    "        g_total_cost = 0\n",
    "        # # Finally train the Generator on the Discriminator\n",
    "        for i in range(steps_per_epoch):\n",
    "            dg_circuit = build_full_circuit(d_thetas, g_thetas)\n",
    "            \n",
    "            # Calculate the cost and gradient\n",
    "            g_cost, result = fake_cost(dg_circuit)\n",
    "            g_cost = -g_cost\n",
    "            grad = derivatives(g_cost, g_thetas, e)\n",
    "\n",
    "            # Update the thetas\n",
    "            g_thetas -= alpha * grad\n",
    "\n",
    "            # Keep track of the total cost so far\n",
    "            g_total_cost += g_cost\n",
    "            \n",
    "        g_loss.append(g_total_cost)\n",
    "        \n",
    "        h_dist = calculate_hellinger_distance(true_distribution, calculate_generated_distribution(build_generator(g_thetas)))\n",
    "        \n",
    "        # If the Hellinger Distance reaches a new optimal value, update the optimal thetas\n",
    "        if h_dist < opt_h_dist:\n",
    "            opt_d_thetas, opt_g_thetas, opt_h_dist = copy.copy(d_thetas), copy.copy(g_thetas), copy.copy(h_dist)\n",
    "#             print(\"Updating optimal g_thetas to:\", opt_g_thetas)\n",
    "            \n",
    "        print(f\"Epoch: {e}, G_loss: {g_total_cost:.3f}, D_loss_real: {d_real_total_cost:.3f}, D_loss_gen: {d_generated_total_cost:.3F}, Accuracy D: {n_correct/(n_incorrect + n_correct)}, Hellinger Distance: {h_dist:.3F}\")\n",
    "\n",
    "    return (opt_d_thetas, opt_g_thetas), (d_thetas, g_thetas), (g_loss, d_loss_on_real, d_loss_on_generated)"
   ]
  },
  {
   "cell_type": "markdown",
   "id": "12721602",
   "metadata": {},
   "source": [
    "In order to make an objective assesment of how well the distribution was learned we calculate the Hellinger Distance.\n",
    "\n",
    "We additionally add a feature when training our model. Since we have an objective evaluation of the performance of the Generator, we will always save the $\\theta_g$ which the optimal achieved Hellinger distance. This does not solve the divergence problems however that plague our implementations of the Quantum GANs. The divergence problems need to be solved before the models can be usable outside of toy examples.\n",
    "\n",
    "We first calculate the true distribution."
   ]
  },
  {
   "cell_type": "code",
   "execution_count": 13,
   "id": "bfedb033",
   "metadata": {},
   "outputs": [
    {
     "data": {
      "image/png": "[encoded data removed]",
      "text/plain": [
       "<Figure size 432x288 with 2 Axes>"
      ]
     },
     "metadata": {
      "needs_background": "light"
     },
     "output_type": "display_data"
    }
   ],
   "source": [
    "resolution = 0.05\n",
    "\n",
    "def calculate_true_distribution(data):\n",
    "    # Initialize values in order to calculate distribution\n",
    "    # Resolution must divide 1\n",
    "    xs = np.arange(0, 1, resolution)\n",
    "    ys = np.arange(0, 1, resolution)\n",
    "    \n",
    "    total_data_points = len(data)\n",
    "    \n",
    "    probabilities = np.zeros(shape=(int(1/resolution), int(1/resolution)))\n",
    "    \n",
    "#     print(data.shape)\n",
    "#     print(data)\n",
    "    \n",
    "    for x_i in range(len(xs)):\n",
    "        for y_i in range(len(ys)):\n",
    "            filtered_x = data[((resolution * (x_i + 1) > data[:, 0]) & (data[:, 0] > resolution * x_i))]\n",
    "            filtered_y = filtered_x[((resolution * (y_i + 1) > filtered_x[:, 1]) & (filtered_x[:, 1] > resolution * y_i))]\n",
    "            probability = len(filtered_y) / total_data_points\n",
    "            probabilities[x_i][y_i] = probability\n",
    "    \n",
    "    # Transpose the probabilities so that the results represent the data set.\n",
    "    probabilities = probabilities.T\n",
    "    \n",
    "    return probabilities\n",
    "\n",
    "true_distribution = calculate_true_distribution(one_clustered_data)\n",
    "\n",
    "plt.imshow(true_distribution)\n",
    "plt.colorbar()\n",
    "plt.gca().invert_yaxis()\n",
    "\n",
    "plt.title(\"Heatmap of true distribution\")\n",
    "\n",
    "plt.show()"
   ]
  },
  {
   "cell_type": "markdown",
   "id": "728c254a",
   "metadata": {},
   "source": [
    "Define a helper function with which we can generate new points from a Generator"
   ]
  },
  {
   "cell_type": "code",
   "execution_count": 14,
   "id": "0e38bc54",
   "metadata": {},
   "outputs": [],
   "source": [
    "def generate_point(g_circuit):\n",
    "    shots = 30\n",
    "\n",
    "    backend = Aer.get_backend('qasm_simulator')\n",
    "    job = execute(backend=backend, experiments=g_circuit, shots=shots)\n",
    "    result = job.result()\n",
    "\n",
    "    counts = result.get_counts(g_circuit)\n",
    "\n",
    "    (x, y) = counts_to_point(counts, shots)\n",
    "\n",
    "    return x, y\n",
    "\n",
    "def counts_to_point(counts, shots):\n",
    "    # For each point: x_i/N where N=shots from generator\n",
    "    x_0 = 0\n",
    "    x_1 = 0\n",
    "    y_0 = 0\n",
    "    y_1 = 0\n",
    "\n",
    "    for key in counts.keys():\n",
    "        if key[0] == '0':\n",
    "            x_0 += counts[key]\n",
    "        else:\n",
    "            x_1 += counts[key]\n",
    "        if key[1] == '0':\n",
    "            y_0 += counts[key]\n",
    "        else:\n",
    "            y_1 += counts[key]\n",
    "\n",
    "    return x_1/shots, y_1/shots"
   ]
  },
  {
   "cell_type": "markdown",
   "id": "e6e789bc",
   "metadata": {},
   "source": [
    "Define a function with which we can get the probabilities from the generated distribution."
   ]
  },
  {
   "cell_type": "code",
   "execution_count": 18,
   "id": "78d862ad",
   "metadata": {},
   "outputs": [
    {
     "data": {
      "image/png": "[encoded data removed]",
      "text/plain": [
       "<Figure size 432x288 with 2 Axes>"
      ]
     },
     "metadata": {
      "needs_background": "light"
     },
     "output_type": "display_data"
    }
   ],
   "source": [
    "def calculate_generated_distribution(g_circuit):\n",
    "    # Initialize values in order to calculate distribution\n",
    "    # Resolution must divide 1\n",
    "    xs = np.arange(0, 1, resolution)\n",
    "    ys = np.arange(0, 1, resolution)\n",
    "    \n",
    "    total_data_points = 250\n",
    "\n",
    "    probabilities = np.zeros(shape=(int(1/resolution), int(1/resolution)))\n",
    "    \n",
    "    def clamp(n, minn, maxn):\n",
    "        return max(min(maxn, n), minn)\n",
    "\n",
    "    for i in range(total_data_points):\n",
    "        x, y = generate_point(g_circuit)\n",
    "        # Limit to only valid indices\n",
    "        probabilities[clamp(int(x / resolution), 0, (int(1/resolution) - 1))][clamp(int(y / resolution), 0, (int(1/resolution) - 1))] += 1/total_data_points\n",
    "        \n",
    "    # Transpose the probabilities so that the results represent the data set.\n",
    "    probabilities = probabilities.T\n",
    "\n",
    "    return probabilities\n",
    "\n",
    "g_circuit = build_generator(np.random.random_sample((4,)) * math.pi)\n",
    "generated_distribution = calculate_generated_distribution(g_circuit)\n",
    "\n",
    "plt.imshow(generated_distribution)\n",
    "plt.colorbar()\n",
    "plt.gca().invert_yaxis()\n",
    "plt.title(\"Heatmap of generated distribution\")\n",
    "\n",
    "plt.show()"
   ]
  },
  {
   "cell_type": "markdown",
   "id": "6c4bc9ba",
   "metadata": {},
   "source": [
    "Now we can define a function with which to calculate the Hellinger Distance."
   ]
  },
  {
   "cell_type": "code",
   "execution_count": 19,
   "id": "02c9cf63",
   "metadata": {},
   "outputs": [],
   "source": [
    "def calculate_hellinger_distance(true_distribution, generated_distribution):\n",
    "    result = 0\n",
    "    \n",
    "    for x_i in range(len(true_distribution)):\n",
    "        for y_i in range(len(true_distribution[x_i])):\n",
    "            result += (math.sqrt(true_distribution[x_i][y_i]) - math.sqrt(generated_distribution[x_i][y_i])) ** 2\n",
    "            \n",
    "    return (1 / math.sqrt(2)) * math.sqrt(result)"
   ]
  },
  {
   "cell_type": "markdown",
   "id": "0fd18723",
   "metadata": {},
   "source": [
    "First intialize the $\\theta$'s of the Discriminator and Generator circuits after which we can train the circuit and optimize the parameters."
   ]
  },
  {
   "cell_type": "code",
   "execution_count": 20,
   "id": "26eda93d",
   "metadata": {},
   "outputs": [
    {
     "name": "stdout",
     "output_type": "stream",
     "text": [
      "Initial parameters: [1.37214046 2.92674156 0.64887449 1.72847835] [2.34481793 1.62785544 3.03817506 1.08518594]\n",
      "Epoch: 0, G_loss: 72.112, D_loss_real: -0.653, D_loss_gen: -71.112, Accuracy D: 0.5, Hellinger Distance: 0.996\n",
      "Epoch: 1, G_loss: 77.053, D_loss_real: -0.384, D_loss_gen: -78.692, Accuracy D: 0.5, Hellinger Distance: 1.000\n",
      "Epoch: 2, G_loss: 69.443, D_loss_real: -0.607, D_loss_gen: -69.439, Accuracy D: 0.375, Hellinger Distance: 1.000\n",
      "Epoch: 3, G_loss: 72.337, D_loss_real: -0.711, D_loss_gen: -70.945, Accuracy D: 0.6, Hellinger Distance: 0.809\n",
      "Epoch: 4, G_loss: 92.661, D_loss_real: -0.616, D_loss_gen: -84.588, Accuracy D: 0.65, Hellinger Distance: 0.922\n",
      "Epoch: 5, G_loss: 73.800, D_loss_real: -0.409, D_loss_gen: -82.975, Accuracy D: 0.525, Hellinger Distance: 1.000\n",
      "Epoch: 6, G_loss: 66.251, D_loss_real: -0.400, D_loss_gen: -69.205, Accuracy D: 0.25, Hellinger Distance: 1.000\n",
      "Epoch: 7, G_loss: 71.910, D_loss_real: -0.420, D_loss_gen: -70.252, Accuracy D: 0.325, Hellinger Distance: 1.000\n",
      "Epoch: 8, G_loss: 70.222, D_loss_real: -0.550, D_loss_gen: -70.405, Accuracy D: 0.375, Hellinger Distance: 1.000\n",
      "Epoch: 9, G_loss: 69.608, D_loss_real: -0.596, D_loss_gen: -67.667, Accuracy D: 0.325, Hellinger Distance: 1.000\n",
      "Epoch: 10, G_loss: 70.907, D_loss_real: -0.628, D_loss_gen: -70.906, Accuracy D: 0.425, Hellinger Distance: 1.000\n",
      "Epoch: 11, G_loss: 71.464, D_loss_real: -0.525, D_loss_gen: -70.585, Accuracy D: 0.375, Hellinger Distance: 0.935\n",
      "Epoch: 12, G_loss: 67.061, D_loss_real: -0.450, D_loss_gen: -71.371, Accuracy D: 0.3, Hellinger Distance: 0.838\n",
      "Epoch: 13, G_loss: 68.567, D_loss_real: -0.409, D_loss_gen: -67.923, Accuracy D: 0.175, Hellinger Distance: 0.947\n",
      "Epoch: 14, G_loss: 74.529, D_loss_real: -0.405, D_loss_gen: -72.286, Accuracy D: 0.4, Hellinger Distance: 0.989\n",
      "Epoch: 15, G_loss: 84.704, D_loss_real: -0.420, D_loss_gen: -79.815, Accuracy D: 0.5, Hellinger Distance: 1.000\n",
      "Epoch: 16, G_loss: 80.572, D_loss_real: -0.427, D_loss_gen: -85.853, Accuracy D: 0.5, Hellinger Distance: 1.000\n",
      "Epoch: 17, G_loss: 73.212, D_loss_real: -0.450, D_loss_gen: -79.608, Accuracy D: 0.5, Hellinger Distance: 1.000\n",
      "Epoch: 18, G_loss: 70.628, D_loss_real: -0.429, D_loss_gen: -71.109, Accuracy D: 0.375, Hellinger Distance: 1.000\n",
      "Epoch: 19, G_loss: 68.577, D_loss_real: -0.382, D_loss_gen: -68.753, Accuracy D: 0.25, Hellinger Distance: 1.000\n",
      "Parameters after training: [10.22201361 11.77661472  9.49874765 10.5783515 ] [-6.42018643 -7.13714891 -5.72682929 -7.67981841]\n"
     ]
    }
   ],
   "source": [
    "init_d_thetas = np.random.random_sample((4,)) * math.pi\n",
    "init_g_thetas = np.random.random_sample((4,)) * math.pi\n",
    "\n",
    "print(\"Initial parameters:\", init_d_thetas, init_g_thetas)\n",
    "\n",
    "(opt_d_thetas, opt_g_thetas), (d_thetas, g_thetas), _ = train(one_clustered_data, init_d_thetas, init_g_thetas)\n",
    "print(\"Parameters after training:\", d_thetas, g_thetas)"
   ]
  },
  {
   "cell_type": "markdown",
   "id": "765c8b44",
   "metadata": {},
   "source": [
    "Unfortunately, with the method implemented from the QuGAN paper, we are not able to optimize the circuit. The Hellinger Distance always stays at a high value.\n",
    "\n",
    "The function below plots the generators distribution compared to the real distribution."
   ]
  },
  {
   "cell_type": "code",
   "execution_count": 21,
   "id": "84473869",
   "metadata": {},
   "outputs": [
    {
     "data": {
      "image/png": "[encoded data removed]",
      "text/plain": [
       "<Figure size 432x288 with 1 Axes>"
      ]
     },
     "metadata": {
      "needs_background": "light"
     },
     "output_type": "display_data"
    },
    {
     "data": {
      "text/plain": [
       "0.8528433029797046"
      ]
     },
     "execution_count": 21,
     "metadata": {},
     "output_type": "execute_result"
    }
   ],
   "source": [
    "def plot_generator_distribution(g_thetas):\n",
    "    # First plot the desired distribution\n",
    "    plt.scatter(*map(list, zip(*one_clustered_data[:250])), color='red', label='real')\n",
    "\n",
    "    # Plot generated points\n",
    "    g_circuit = build_generator(g_thetas)\n",
    "    points = []\n",
    "    for i in range(250):\n",
    "        points.append(generate_point(g_circuit))\n",
    "    plt.scatter(*map(list, zip(*points)), color='blue', label='generated')\n",
    "\n",
    "    # Plot disc points\n",
    "\n",
    "    plt.xlim([0, 1])\n",
    "    plt.ylim([0, 1])\n",
    "    plt.legend()\n",
    "\n",
    "    plt.title(\"Generator Distribution vs Real Distribution\")\n",
    "\n",
    "    plt.show()\n",
    "\n",
    "# Plot the optimal g_thetas or the g_thetas produced at the last epoch\n",
    "# plot_generator_distribution(g_thetas)\n",
    "plot_generator_distribution(opt_g_thetas)\n",
    "\n",
    "# Calculate the Hellinger Distance of g_thetas (or opt_g_thetas)\n",
    "calculate_hellinger_distance(true_distribution, calculate_generated_distribution(build_generator(opt_g_thetas)))"
   ]
  },
  {
   "cell_type": "markdown",
   "id": "4015a9d7",
   "metadata": {},
   "source": [
    "## Adapted Implementation of QuGAN (Adapted structure and cost function)"
   ]
  },
  {
   "cell_type": "markdown",
   "id": "1d0ea21a",
   "metadata": {},
   "source": [
    "Our second attempt at implementating the QuGAN uses a more straightforward implementation of a GAN. Where the Discriminator and the Generator are completely separated into two different circuits.\n",
    "\n",
    "The cost function is changed into a simple calculation of the distance towards a correct prediction."
   ]
  },
  {
   "cell_type": "code",
   "execution_count": 22,
   "id": "8c50694e",
   "metadata": {},
   "outputs": [
    {
     "data": {
      "image/png": "[encoded data removed]",
      "text/plain": [
       "<Figure size 707.444x264.88 with 1 Axes>"
      ]
     },
     "execution_count": 22,
     "metadata": {},
     "output_type": "execute_result"
    }
   ],
   "source": [
    "def build_discriminator(d_thetas, real_x, real_y):\n",
    "    q = QuantumRegister(3)\n",
    "    c = ClassicalRegister(1)\n",
    "    circuit = QuantumCircuit(q, c)\n",
    "\n",
    "    circuit.initialize([math.sqrt(1 - real_x**2), real_x], 1)\n",
    "    circuit.initialize([math.sqrt(1 - real_y**2), real_y], 2)\n",
    "\n",
    "    circuit.h(q[0])\n",
    "\n",
    "    circuit.ry(d_thetas[0], q[1])\n",
    "    circuit.ry(d_thetas[1], q[2])\n",
    "\n",
    "    circuit.ryy(d_thetas[2], q[1], q[2])\n",
    "    circuit.cry(d_thetas[3], q[1], q[2])\n",
    "\n",
    "    circuit.cnot(q[0], q[1])\n",
    "    circuit.cnot(q[0], q[2])\n",
    "\n",
    "    circuit.h(q[0])\n",
    "    circuit.measure(q[0], c[0])\n",
    "\n",
    "    return circuit\n",
    "\n",
    "build_discriminator(init_d_thetas, 0.5, 0.6).draw(output='mpl')"
   ]
  },
  {
   "cell_type": "markdown",
   "id": "ef802bfd",
   "metadata": {},
   "source": [
    "Above we use $q_1$ and $q_2$ to load in the x and y of the data. $q_0$ outputs the judgement of the Discriminator with results near $1$ meaning it evaluates a sample as real and result near $0$ as generated."
   ]
  },
  {
   "cell_type": "code",
   "execution_count": 23,
   "id": "d40be669",
   "metadata": {},
   "outputs": [
    {
     "data": {
      "image/png": "[encoded data removed]",
      "text/plain": [
       "<Figure size 466.644x204.68 with 1 Axes>"
      ]
     },
     "execution_count": 23,
     "metadata": {},
     "output_type": "execute_result"
    }
   ],
   "source": [
    "def build_generator(g_thetas):\n",
    "    q = QuantumRegister(2)\n",
    "    c = ClassicalRegister(2)\n",
    "    circuit = QuantumCircuit(q, c)\n",
    "\n",
    "    circuit.ry(g_thetas[0], q[0])\n",
    "    circuit.ry(g_thetas[1], q[1])\n",
    "\n",
    "    circuit.ryy(g_thetas[2], q[0], q[1])\n",
    "\n",
    "    circuit.cry(g_thetas[3], q[0], q[1])\n",
    "\n",
    "    circuit.measure(q[0], c[0])\n",
    "    circuit.measure(q[1], c[1])\n",
    "\n",
    "    return circuit\n",
    "\n",
    "build_generator(init_g_thetas).draw(output='mpl')"
   ]
  },
  {
   "cell_type": "code",
   "execution_count": 24,
   "id": "239e2e84",
   "metadata": {},
   "outputs": [],
   "source": [
    "def train(data, d_thetas, g_thetas, epochs=20):\n",
    "    opt_d_thetas, opt_g_thetas, opt_h_dist = d_thetas, g_thetas, 1\n",
    "    \n",
    "    d_loss_on_real = []\n",
    "    d_loss_on_generated = []\n",
    "    g_loss = []\n",
    "    accuracies = []\n",
    "\n",
    "    # Train for e amount of epochs\n",
    "    for e in range(epochs):\n",
    "        d_real_total_cost = 0\n",
    "        n_correct = 0\n",
    "        n_incorrect = 0\n",
    "\n",
    "        # Make a random selection from our dataset\n",
    "        idx = np.random.randint(len(data), size=steps_per_epoch)\n",
    "        xs = data[idx]\n",
    "        # Train the Discriminator on each sample\n",
    "        for x in xs:\n",
    "            d_circuit = build_discriminator(d_thetas, x[0], x[1])\n",
    "            d_prediction = run_simulation(d_circuit, 30)\n",
    "            d_cost = 1 - d_prediction\n",
    "\n",
    "            grad = derivatives(d_cost, d_thetas, e)\n",
    "\n",
    "            # If the result is over 0.5, the discriminator classifies the sample as real.\n",
    "            if d_prediction > 0.5:\n",
    "                n_correct += 1\n",
    "            else:\n",
    "                n_incorrect += 1\n",
    "\n",
    "            # Update the thetas\n",
    "            d_thetas -= alpha * grad\n",
    "\n",
    "            # Keep track of the total cost so far\n",
    "            d_real_total_cost += d_cost\n",
    "\n",
    "        d_loss_on_real.append(d_real_total_cost)\n",
    "\n",
    "        d_generated_total_cost = 0\n",
    "        \n",
    "        # Then train the Discriminator on generated data\n",
    "        for i in range(steps_per_epoch):\n",
    "            g_circuit = build_generator(g_thetas)\n",
    "            (gen_x, gen_y) = generate_point(g_circuit)\n",
    "            d_circuit = build_discriminator(d_thetas, gen_x, gen_y)\n",
    "            d_prediction = run_simulation(d_circuit, 30)\n",
    "\n",
    "            # Calculate the cost and gradient\n",
    "            d_cost = d_prediction\n",
    "            grad = derivatives(d_cost, d_thetas, e)\n",
    "\n",
    "            # If the result less than 0.5, the discriminator classifies the sample as fake.\n",
    "            if d_prediction < 0.5:\n",
    "                n_correct += 1\n",
    "            else:\n",
    "                n_incorrect += 1\n",
    "\n",
    "            # Update the thetas\n",
    "            d_thetas -= alpha * grad\n",
    "\n",
    "            d_generated_total_cost += d_cost\n",
    "\n",
    "        d_loss_on_generated.append(d_generated_total_cost)\n",
    "\n",
    "        g_total_cost = 0\n",
    "        # # Finally train the Generator on the Discriminator\n",
    "        for i in range(steps_per_epoch):\n",
    "            g_circuit = build_generator(g_thetas)\n",
    "            (gen_x, gen_y) = generate_point(g_circuit)\n",
    "            d_circuit = build_discriminator(d_thetas, gen_x, gen_y)\n",
    "            d_prediction = run_simulation(d_circuit, 30)\n",
    "            \n",
    "            g_cost = -(1 - d_prediction)\n",
    "            grad = derivatives(g_cost, g_thetas, e)\n",
    "\n",
    "            # Update the thetas\n",
    "            g_thetas -= alpha * grad\n",
    "\n",
    "            # Keep track of the total cost so far\n",
    "            g_total_cost += g_cost\n",
    "        g_loss.append(g_total_cost)\n",
    "\n",
    "        accuracies.append(n_correct/(n_incorrect + n_correct))\n",
    "        \n",
    "        h_dist = calculate_hellinger_distance(true_distribution, calculate_generated_distribution(build_generator(g_thetas)))\n",
    "        \n",
    "        # If the Hellinger Distance reaches a new optimal value, update the optimal thetas\n",
    "        if h_dist < opt_h_dist:\n",
    "            opt_d_thetas, opt_g_thetas, opt_h_dist = copy.copy(d_thetas), copy.copy(g_thetas), copy.copy(h_dist)\n",
    "        \n",
    "        print(f\"Epoch: {e}, G_loss: {g_total_cost:.3f}, D_loss_real: {d_real_total_cost:.3f}, D_loss_gen: {d_generated_total_cost:.3F}, Accuracy: {n_correct/(n_incorrect + n_correct)}, Hellinger Distance: {h_dist:.3F}\")\n",
    "\n",
    "    return (opt_d_thetas, opt_g_thetas), (d_thetas, g_thetas), (g_loss, d_loss_on_real, d_loss_on_generated)"
   ]
  },
  {
   "cell_type": "code",
   "execution_count": 25,
   "id": "31c6fb7f",
   "metadata": {},
   "outputs": [
    {
     "name": "stdout",
     "output_type": "stream",
     "text": [
      "Initial parameters: [0.18051042 0.65166608 3.0207242  1.40082042] [0.99859827 0.24731118 1.97256611 0.00712079]\n",
      "Epoch: 0, G_loss: -18.067, D_loss_real: 19.600, D_loss_gen: 2.200, Accuracy: 0.5, Hellinger Distance: 0.992\n",
      "Epoch: 1, G_loss: -18.800, D_loss_real: 19.100, D_loss_gen: 1.033, Accuracy: 0.5, Hellinger Distance: 0.972\n",
      "Epoch: 2, G_loss: -17.400, D_loss_real: 17.133, D_loss_gen: 1.667, Accuracy: 0.5, Hellinger Distance: 0.885\n",
      "Epoch: 3, G_loss: -14.133, D_loss_real: 15.200, D_loss_gen: 4.800, Accuracy: 0.5, Hellinger Distance: 0.868\n",
      "Epoch: 4, G_loss: -11.933, D_loss_real: 14.133, D_loss_gen: 7.833, Accuracy: 0.475, Hellinger Distance: 0.830\n",
      "Epoch: 5, G_loss: -10.333, D_loss_real: 10.433, D_loss_gen: 8.933, Accuracy: 0.575, Hellinger Distance: 0.835\n",
      "Epoch: 6, G_loss: -9.967, D_loss_real: 10.667, D_loss_gen: 9.833, Accuracy: 0.375, Hellinger Distance: 0.897\n",
      "Epoch: 7, G_loss: -10.400, D_loss_real: 9.267, D_loss_gen: 9.833, Accuracy: 0.525, Hellinger Distance: 0.929\n",
      "Epoch: 8, G_loss: -11.233, D_loss_real: 8.900, D_loss_gen: 9.367, Accuracy: 0.725, Hellinger Distance: 0.937\n",
      "Epoch: 9, G_loss: -11.767, D_loss_real: 8.067, D_loss_gen: 8.933, Accuracy: 0.675, Hellinger Distance: 0.953\n",
      "Epoch: 10, G_loss: -13.367, D_loss_real: 8.567, D_loss_gen: 6.867, Accuracy: 0.825, Hellinger Distance: 0.976\n",
      "Epoch: 11, G_loss: -13.933, D_loss_real: 8.367, D_loss_gen: 7.467, Accuracy: 0.825, Hellinger Distance: 0.994\n",
      "Epoch: 12, G_loss: -15.267, D_loss_real: 9.167, D_loss_gen: 5.333, Accuracy: 0.775, Hellinger Distance: 0.994\n",
      "Epoch: 13, G_loss: -16.233, D_loss_real: 9.767, D_loss_gen: 3.233, Accuracy: 0.75, Hellinger Distance: 0.995\n",
      "Epoch: 14, G_loss: -17.200, D_loss_real: 9.400, D_loss_gen: 3.933, Accuracy: 0.7, Hellinger Distance: 0.996\n",
      "Epoch: 15, G_loss: -17.967, D_loss_real: 11.500, D_loss_gen: 2.533, Accuracy: 0.575, Hellinger Distance: 0.999\n",
      "Epoch: 16, G_loss: -18.367, D_loss_real: 10.700, D_loss_gen: 1.867, Accuracy: 0.65, Hellinger Distance: 0.993\n",
      "Epoch: 17, G_loss: -18.300, D_loss_real: 11.733, D_loss_gen: 0.700, Accuracy: 0.55, Hellinger Distance: 0.999\n",
      "Epoch: 18, G_loss: -19.333, D_loss_real: 12.500, D_loss_gen: 0.633, Accuracy: 0.575, Hellinger Distance: 1.000\n",
      "Epoch: 19, G_loss: -19.333, D_loss_real: 12.100, D_loss_gen: 0.733, Accuracy: 0.525, Hellinger Distance: 0.996\n",
      "Parameters after training: [-1.95763743 -1.48648177  0.88257634 -0.73732743] [2.82106364 2.06977655 3.79503147 1.82958616]\n"
     ]
    }
   ],
   "source": [
    "init_d_thetas = np.random.random_sample((4,)) * math.pi\n",
    "init_g_thetas = np.random.random_sample((4,)) * math.pi\n",
    "\n",
    "print(\"Initial parameters:\", init_d_thetas, init_g_thetas)\n",
    "\n",
    "(opt_d_thetas, opt_g_thetas), (d_thetas, g_thetas), _ = train(one_clustered_data, init_d_thetas, init_g_thetas)\n",
    "print(\"Parameters after training:\", d_thetas, g_thetas)"
   ]
  },
  {
   "cell_type": "markdown",
   "id": "b5ef8928",
   "metadata": {},
   "source": [
    "We can choose to display the Generator produced at the last epoch or the best Generator we got during the training"
   ]
  },
  {
   "cell_type": "code",
   "execution_count": 26,
   "id": "5d9be147",
   "metadata": {},
   "outputs": [
    {
     "data": {
      "image/png": "[encoded data removed]",
      "text/plain": [
       "<Figure size 432x288 with 1 Axes>"
      ]
     },
     "metadata": {
      "needs_background": "light"
     },
     "output_type": "display_data"
    },
    {
     "data": {
      "text/plain": [
       "0.8294645173574674"
      ]
     },
     "execution_count": 26,
     "metadata": {},
     "output_type": "execute_result"
    }
   ],
   "source": [
    "# Plot the optimal g_thetas or the g_thetas produced at the last epoch\n",
    "# plot_generator_distribution(g_thetas)\n",
    "plot_generator_distribution(opt_g_thetas)\n",
    "\n",
    "# Calculate the Hellinger Distance of g_thetas (or opt_g_thetas)\n",
    "calculate_hellinger_distance(true_distribution, calculate_generated_distribution(build_generator(opt_g_thetas)))"
   ]
  },
  {
   "cell_type": "markdown",
   "id": "4a593abc",
   "metadata": {},
   "source": [
    "Compared to the non-adapted QuGAN model performs better: In the adapted QuGAN model we can see that the model can learn and converge on the real distribution. However, when trained long enough the model always diverges away from the real distribution."
   ]
  },
  {
   "cell_type": "markdown",
   "id": "95b552fe",
   "metadata": {},
   "source": [
    "## Adapted Implementation of QuGAN (Adapted structure and optimization with COBYLA)"
   ]
  },
  {
   "cell_type": "markdown",
   "id": "500e9b1a",
   "metadata": {},
   "source": [
    "We don't have the redefine the ```build_discriminator()``` and ```build_generator()``` functions as we use the same structure as in the other adapted QuGAN implementation.\n",
    "\n",
    "Since we are using COBYLA however, we must define two objective functions. One for the Discriminator and one for the Generator. (Additionally, we implement this as a class so that we can keep the parameters fixed while training the antagonists)"
   ]
  },
  {
   "cell_type": "code",
   "execution_count": 27,
   "id": "fc2de0cc",
   "metadata": {},
   "outputs": [],
   "source": [
    "class QGAN_COBYLA:\n",
    "    \n",
    "    def __init__(self, epochs=20):\n",
    "        self.data_generator = OneClusters()\n",
    "\n",
    "        self.data = self.data_generator.generate(250)\n",
    "\n",
    "        self.d_thetas = np.random.random_sample((4,)) * math.pi\n",
    "        self.g_thetas = np.random.random_sample((4,)) * math.pi\n",
    "        \n",
    "        self.opt_d_thetas = copy.copy(self.d_thetas)\n",
    "        self.opt_g_thetas = copy.copy(self.g_thetas)\n",
    "        self.opt_h_dist = 1\n",
    "        \n",
    "        self.epochs = epochs\n",
    "\n",
    "        self.alpha = 0.01\n",
    "\n",
    "        self.steps_per_epoch = 20\n",
    "\n",
    "    def objective_function_generator(self, g_thetas):\n",
    "        self.g_thetas = g_thetas\n",
    "        cost = 0\n",
    "        for i in range(26):\n",
    "            (gen_x, gen_y) = self.generate_point()\n",
    "            d_circuit = build_discriminator(self.d_thetas, gen_x, gen_y)\n",
    "            prob = run_simulation(d_circuit, 30)\n",
    "            \n",
    "            # This cost function can be used to simulate a \"perfect\" Discriminator in order to see\n",
    "            # If the Generator can learns distributions without an antagonist\n",
    "            # cost += abs(0.75 - gen_x) + abs(0.25 - gen_y)\n",
    "\n",
    "            cost += (1 - prob)\n",
    "\n",
    "        # print(cost, g_thetas)\n",
    "        # self.plot_generator_distribution(1)\n",
    "\n",
    "        return cost\n",
    "\n",
    "    def objective_function_discriminator(self, d_thetas):\n",
    "        self.d_thetas = d_thetas\n",
    "        cost = 0\n",
    "        for i in range(13):\n",
    "            (gen_x, gen_y) = self.generate_point()\n",
    "            d_circuit = build_discriminator(self.d_thetas, gen_x, gen_y)\n",
    "            prob = run_simulation(d_circuit, 30)\n",
    "\n",
    "            cost += prob\n",
    "\n",
    "        idx = np.random.randint(len(self.data), size=13)\n",
    "        xs = self.data[idx]\n",
    "\n",
    "        for x in xs:\n",
    "            d_circuit = build_discriminator(self.d_thetas, x[0], x[1])\n",
    "            prob = run_simulation(d_circuit, 30)\n",
    "\n",
    "            cost += (1 - prob)\n",
    "\n",
    "        return cost\n",
    "    \n",
    "    # The training function is defined as follows, where we train the Discriminator and the Generator alternatingly.\n",
    "    def train(self):\n",
    "        for i in range(self.epochs):\n",
    "            optimizer = COBYLA(maxiter=10, tol=0.001)\n",
    "\n",
    "            opt_param = optimizer.optimize(num_vars=len(self.d_thetas),\n",
    "                                           objective_function=self.objective_function_discriminator,\n",
    "                                           initial_point=self.d_thetas)\n",
    "\n",
    "            self.d_thetas, d_cost, _ = opt_param\n",
    "\n",
    "            opt_param = optimizer.optimize(num_vars=len(self.g_thetas),\n",
    "                                           objective_function=self.objective_function_generator,\n",
    "                                           initial_point=self.g_thetas)\n",
    "\n",
    "            self.g_thetas, g_cost, _ = opt_param\n",
    "            \n",
    "            h_dist = calculate_hellinger_distance(true_distribution, calculate_generated_distribution(build_generator(self.g_thetas)))\n",
    "            \n",
    "            # If the Hellinger Distance reaches a new optimal value, update the optimal thetas\n",
    "            if h_dist < self.opt_h_dist:\n",
    "                self.opt_d_thetas, self.opt_g_thetas, self.opt_h_dist = copy.copy(self.d_thetas), copy.copy(self.g_thetas), copy.copy(h_dist)\n",
    "                print(\"Updating optimal g_thetas to:\", self.opt_g_thetas)\n",
    "\n",
    "            print(f\"Epoch {i}, G_cost: {g_cost:.2f}, D_cost: {d_cost:.3f}, Hellinger Distance: {h_dist:.3f}\")\n",
    "            \n",
    "    def generate_point(self):\n",
    "        g_circuit = build_generator(self.g_thetas)\n",
    "        shots = 30\n",
    "\n",
    "        backend = Aer.get_backend('qasm_simulator')\n",
    "        job = execute(backend=backend, experiments=g_circuit, shots=shots)\n",
    "        result = job.result()\n",
    "\n",
    "        counts = result.get_counts(g_circuit)\n",
    "\n",
    "        (x, y) = counts_to_point(counts, shots)\n",
    "\n",
    "        return x, y"
   ]
  },
  {
   "cell_type": "code",
   "execution_count": 28,
   "id": "2ab916d3",
   "metadata": {},
   "outputs": [
    {
     "name": "stdout",
     "output_type": "stream",
     "text": [
      "Initial parameters: [2.73657792 0.16529977 1.09390842 2.50969118] [3.13801857 1.98256272 2.0518258  1.11114563]\n",
      "Updating optimal g_thetas to: [2.97327923 0.69022422 1.85846752 1.30489749]\n",
      "Epoch 0, G_cost: 3.33, D_cost: 8.633, Hellinger Distance: 0.722\n",
      "Epoch 1, G_cost: 1.90, D_cost: 11.100, Hellinger Distance: 1.000\n",
      "Updating optimal g_thetas to: [5.39431366 3.23440846 6.0533887  2.21010094]\n",
      "Epoch 2, G_cost: 1.10, D_cost: 5.833, Hellinger Distance: 0.674\n",
      "Epoch 3, G_cost: 1.73, D_cost: 11.600, Hellinger Distance: 0.960\n",
      "Epoch 4, G_cost: 0.67, D_cost: 10.433, Hellinger Distance: 0.986\n",
      "Epoch 5, G_cost: 12.20, D_cost: 7.833, Hellinger Distance: 1.000\n",
      "Epoch 6, G_cost: 5.90, D_cost: 8.533, Hellinger Distance: 0.943\n",
      "Updating optimal g_thetas to: [ 7.11899869  2.58920246 12.34964116  4.89199925]\n",
      "Epoch 7, G_cost: 0.73, D_cost: 10.033, Hellinger Distance: 0.583\n",
      "Epoch 8, G_cost: 0.23, D_cost: 11.333, Hellinger Distance: 0.971\n",
      "Epoch 9, G_cost: 2.63, D_cost: 9.100, Hellinger Distance: 0.975\n",
      "Epoch 10, G_cost: 0.87, D_cost: 8.667, Hellinger Distance: 0.704\n",
      "Epoch 11, G_cost: 0.10, D_cost: 13.567, Hellinger Distance: 1.000\n",
      "Epoch 12, G_cost: 6.10, D_cost: 7.733, Hellinger Distance: 1.000\n",
      "Epoch 13, G_cost: 0.43, D_cost: 4.100, Hellinger Distance: 0.986\n",
      "Epoch 14, G_cost: 0.93, D_cost: 8.833, Hellinger Distance: 0.934\n",
      "Epoch 15, G_cost: 1.60, D_cost: 9.133, Hellinger Distance: 0.999\n",
      "Epoch 16, G_cost: 11.20, D_cost: 13.933, Hellinger Distance: 1.000\n",
      "Epoch 17, G_cost: 2.80, D_cost: 7.233, Hellinger Distance: 0.952\n",
      "Epoch 18, G_cost: 0.67, D_cost: 8.900, Hellinger Distance: 0.776\n",
      "Epoch 19, G_cost: 1.90, D_cost: 10.867, Hellinger Distance: 0.978\n"
     ]
    }
   ],
   "source": [
    "QGAN_C = QGAN_COBYLA(20)\n",
    "print(\"Initial parameters:\", QGAN_C.d_thetas, QGAN_C.g_thetas)\n",
    "\n",
    "QGAN_C.train()\n",
    "\n",
    "# data = one_clustered_data\n",
    "# (opt_d_thetas, opt_g_thetas), (d_thetas, g_thetas), _ = train(init_d_thetas, init_g_thetas)\n",
    "# print(\"Parameters after training:\", d_thetas, g_thetas)"
   ]
  },
  {
   "cell_type": "code",
   "execution_count": 29,
   "id": "b70184ed",
   "metadata": {},
   "outputs": [
    {
     "data": {
      "image/png": "[encoded data removed]",
      "text/plain": [
       "<Figure size 432x288 with 1 Axes>"
      ]
     },
     "metadata": {
      "needs_background": "light"
     },
     "output_type": "display_data"
    },
    {
     "data": {
      "text/plain": [
       "0.6091144154658341"
      ]
     },
     "execution_count": 29,
     "metadata": {},
     "output_type": "execute_result"
    }
   ],
   "source": [
    "plot_generator_distribution(QGAN_C.opt_g_thetas)\n",
    "\n",
    "# Calculate the Hellinger Distance of g_thetas (or opt_g_thetas)\n",
    "calculate_hellinger_distance(true_distribution, calculate_generated_distribution(build_generator(QGAN_C.opt_g_thetas)))"
   ]
  },
  {
   "cell_type": "markdown",
   "id": "c78087ac",
   "metadata": {},
   "source": [
    "With the COBYLA optimizer we achieve similar results as the Adapted QuGAN without the COBYLA optimizer. The model has a hard time converging, and when it does, it usually diverges quickly.\n",
    "\n",
    "Saving the best $\\theta_g$'s does give us a good approximation of the distribution but does not fix the divergence problem."
   ]
  }
 ],
 "metadata": {
  "kernelspec": {
   "display_name": "Python 3",
   "language": "python",
   "name": "python3"
  },
  "language_info": {
   "codemirror_mode": {
    "name": "ipython",
    "version": 3
   },
   "file_extension": ".py",
   "mimetype": "text/x-python",
   "name": "python",
   "nbconvert_exporter": "python",
   "pygments_lexer": "ipython3",
   "version": "3.9.5"
  }
 },
 "nbformat": 4,
 "nbformat_minor": 5
}
